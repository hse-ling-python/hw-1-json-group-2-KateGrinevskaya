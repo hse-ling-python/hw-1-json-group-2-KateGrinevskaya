{
 "cells": [
  {
   "cell_type": "markdown",
   "metadata": {},
   "source": [
    "# Домашняя работа 3. Гриневская Катя, БКЛ182"
   ]
  },
  {
   "cell_type": "markdown",
   "metadata": {},
   "source": [
    "### Задание 1. Сколько твитов в наборе?"
   ]
  },
  {
   "cell_type": "code",
   "execution_count": 2,
   "metadata": {},
   "outputs": [
    {
     "name": "stdout",
     "output_type": "stream",
     "text": [
      "Ответ: 2556\n"
     ]
    }
   ],
   "source": [
    "import json\n",
    "# создаём пустой список и построчно добавляем туда содержимое исходника\n",
    "twitter = []\n",
    "for line in open('hw_3_twitter.json'):\n",
    "    twitter.append(json.loads(line))\n",
    "# узнаём длину списка и выводим ответ\n",
    "print('Ответ:', len(twitter))"
   ]
  },
  {
   "cell_type": "markdown",
   "metadata": {},
   "source": [
    "### Задание 2. Какой процент твитов составляют удаленные записи? (помеченные как deleted)"
   ]
  },
  {
   "cell_type": "code",
   "execution_count": 3,
   "metadata": {},
   "outputs": [
    {
     "name": "stdout",
     "output_type": "stream",
     "text": [
      "Ответ: 14.162754303599373 %\n"
     ]
    }
   ],
   "source": [
    "# заведём счётчик для удалёных твитов\n",
    "c = 0\n",
    "# посчитаем кол-во твитов, в аргументах которых есть \"delete\"\n",
    "for tweet in twitter:\n",
    "    if 'delete' in tweet.keys():\n",
    "        c += 1\n",
    "# выведем их процентное содержание от всех твитов\n",
    "print('Ответ:', (c/(len(twitter))*100), '%')"
   ]
  },
  {
   "cell_type": "markdown",
   "metadata": {},
   "source": [
    "### Задание 3. Какие самые популярные языки твитов?"
   ]
  },
  {
   "cell_type": "code",
   "execution_count": 5,
   "metadata": {},
   "outputs": [
    {
     "name": "stdout",
     "output_type": "stream",
     "text": [
      "Ответ:\n",
      "1 - en\n",
      "2 - ja\n",
      "3 - es\n",
      "4 - ko\n",
      "5 - th\n",
      "6 - ar\n",
      "7 - und\n",
      "8 - in\n",
      "9 - pt\n",
      "10 - fr\n",
      "11 - tr\n",
      "12 - tl\n",
      "13 - hi\n",
      "14 - ru\n",
      "15 - fa\n"
     ]
    }
   ],
   "source": [
    "from collections import Counter\n",
    "# создаём список, в котором хранятся языки всех неудалённых твитов\n",
    "langs = []\n",
    "# вносим языки в список\n",
    "for tweet in twitter:\n",
    "    if 'delete' not in tweet.keys():\n",
    "        langs.append(tweet['lang'])\n",
    "# выводим первые 15 в понятном виде\n",
    "print('Ответ:')\n",
    "for j in range(1, 16):\n",
    "    print(j, '-', Counter(langs).most_common(j)[-1][0])"
   ]
  },
  {
   "cell_type": "markdown",
   "metadata": {},
   "source": [
    "### Задание 4. Есть ли твиты от одного и того же пользователя? Если да, то сколько таких пользователей?"
   ]
  },
  {
   "cell_type": "code",
   "execution_count": 7,
   "metadata": {},
   "outputs": [
    {
     "name": "stdout",
     "output_type": "stream",
     "text": [
      "Ответ: да. Таких пользователей  25\n"
     ]
    }
   ],
   "source": [
    "# auth_n - количество пользователей, у которых больше 1 твита\n",
    "# authors - список всех авторов неудалённых твитов\n",
    "auth_n = 0\n",
    "authors = []\n",
    "# создаём список всех авторов неудалённых твитов\n",
    "for tweet in twitter:\n",
    "    if 'delete' not in tweet.keys():\n",
    "        authors.append(tweet['user']['id_str'])\n",
    "# в словаре (автор - кол-во твитов) ищем кол-во авторов >1 твита\n",
    "for key, value in Counter(authors).items():\n",
    "    if int(value) >= 2:\n",
    "        auth_n += 1\n",
    "# выводим ответ\n",
    "if auth_n > 0:\n",
    "    print('Ответ: да. Таких пользователей ', auth_n)\n",
    "else:\n",
    "    print('Ответ: нет')"
   ]
  },
  {
   "cell_type": "markdown",
   "metadata": {},
   "source": [
    "### Задание 5. Топ-20 хэштегов (для них есть специальное поле)"
   ]
  },
  {
   "cell_type": "code",
   "execution_count": 8,
   "metadata": {},
   "outputs": [
    {
     "name": "stdout",
     "output_type": "stream",
     "text": [
      "Ответ:\n",
      "1 - BTS\n",
      "2 - 방탄소년단\n",
      "3 - AMAs\n",
      "4 - 人気投票ガチャ\n",
      "5 - 태형\n",
      "6 - 뷔\n",
      "7 - BTSinChicago\n",
      "8 - BTSLoveYourselfTour\n",
      "9 - 오늘의방탄\n",
      "10 - PledgeForSwachhBharat\n",
      "11 - MPN\n",
      "12 - PCAs\n",
      "13 - V\n",
      "14 - 시카고1회차공연\n",
      "15 - เป๊กผลิตโชค\n",
      "16 - JIMIN\n",
      "17 - running\n",
      "18 - NCT\n",
      "19 - 지민\n",
      "20 - WajahmuPlastik\n"
     ]
    }
   ],
   "source": [
    "# создаём список всех хэштегов\n",
    "hashes = []\n",
    "# по очереди добавляем в него все хэштеги\n",
    "for tweet in twitter:\n",
    "    if 'delete' not in tweet.keys():\n",
    "        for i in range(len(tweet['entities']['hashtags'])):\n",
    "            hashes.append(tweet['entities']['hashtags'][i]['text'])\n",
    "# выводим ответ\n",
    "print('Ответ:')\n",
    "for j in range(1, 21):\n",
    "    print(j, '-', Counter(hashes).most_common(j)[-1][0])"
   ]
  },
  {
   "cell_type": "markdown",
   "metadata": {},
   "source": [
    "### Задание 6. Предобработать тексты оригинальных твитов (не ретвитов) на английском языке (убрать пунктуацию, привести к нижнему регистру) и составить частотный словарь"
   ]
  },
  {
   "cell_type": "code",
   "execution_count": 9,
   "metadata": {},
   "outputs": [
    {
     "name": "stdout",
     "output_type": "stream",
     "text": [
      "Ответ:\n",
      "1 - ('the', 104)\n",
      "2 - ('to', 79)\n",
      "3 - ('a', 67)\n",
      "4 - ('i', 60)\n",
      "5 - ('and', 57)\n",
      "6 - ('you', 45)\n",
      "7 - ('is', 41)\n",
      "8 - ('for', 40)\n",
      "9 - ('of', 40)\n",
      "10 - ('it', 38)\n",
      "11 - ('in', 31)\n",
      "12 - ('that', 30)\n",
      "13 - ('my', 26)\n",
      "14 - ('on', 24)\n",
      "15 - ('me', 24)\n",
      "16 - ('be', 22)\n",
      "17 - ('its', 21)\n",
      "18 - ('this', 20)\n",
      "19 - ('are', 20)\n",
      "20 - ('have', 19)\n",
      "21 - ('im', 18)\n",
      "22 - ('so', 17)\n",
      "23 - ('at', 17)\n",
      "24 - ('your', 16)\n",
      "25 - ('get', 16)\n",
      "26 - ('not', 16)\n",
      "27 - ('more', 16)\n",
      "28 - ('but', 16)\n",
      "29 - ('with', 16)\n",
      "30 - ('what', 15)\n",
      "31 - ('just', 14)\n",
      "32 - ('about', 13)\n",
      "33 - ('now', 12)\n",
      "34 - ('up', 11)\n",
      "35 - ('hit', 11)\n",
      "36 - ('we', 11)\n",
      "37 - ('all', 10)\n",
      "38 - ('only', 10)\n",
      "39 - ('was', 10)\n",
      "40 - ('dont', 9)\n"
     ]
    }
   ],
   "source": [
    "import re\n",
    "# texts - пустой список для текстов\n",
    "texts = []\n",
    "# нужные оригинальные твиты\n",
    "for tweet in twitter:\n",
    "    if (('delete' not in tweet.keys()) and\n",
    "            ('retweeted_status' not in tweet.keys()) and\n",
    "            ('quoted_status' not in tweet.keys()) and (tweet['lang'] == 'en')):\n",
    "        # понижаем регистр и очищаем от знаков препинания\n",
    "        tweet_text = tweet['text']\n",
    "        tweet_text = tweet_text.lower()\n",
    "        for ch in tweet_text:\n",
    "            if (ch in \"\"\"#!$@№\"'%^&*()_+=-/>|<.,?;:\"\"\"):\n",
    "                tweet_text = tweet_text.replace(ch, '')\n",
    "        if '\\n' in tweet_text:\n",
    "            tweet_text = tweet_text.replace('\\n', '')\n",
    "        tweet_text = re.sub(r'[^\\w\\s]', '', tweet_text)\n",
    "        # в пустой список добавляем строки (тексты)\n",
    "        texts.append(tweet_text)\n",
    "        # преобразуем его в строку из слов\n",
    "        texts_str = ' '.join(texts)\n",
    "        # удаляем ссылки\n",
    "        for i in texts_str:\n",
    "            if i.startswith('http') == False:\n",
    "                i = ''\n",
    "        # превращаем строку в список слов и составляем частотный список\n",
    "        words = Counter(texts_str.split())\n",
    "# выводим овтет\n",
    "print('Ответ:')\n",
    "for j in range(1, 41):\n",
    "    print(j, '-', words.most_common(j)[-1])\n",
    "        "
   ]
  },
  {
   "cell_type": "markdown",
   "metadata": {},
   "source": [
    "### Задание 7. Найти количество подписчиков (фолловеров) у авторов твитов и вывести топ-10"
   ]
  },
  {
   "cell_type": "code",
   "execution_count": 10,
   "metadata": {},
   "outputs": [
    {
     "name": "stdout",
     "output_type": "stream",
     "text": [
      "Ответ:\n",
      "Filosofía♕ - 2521403\n",
      "FITNESS Magazine - 1491309\n",
      "malaysiakini.com - 1206759\n",
      "NYT Science - 1137374\n",
      "Gramática - 625463\n",
      "TGRT Haber - 392472\n",
      "The Sun Football ⚽ - 383698\n",
      "Melbourne, Australia - 374222\n",
      "Roznama Express - 318189\n",
      "💞 ცųཞɠɛཞცơơɠıɛ 💞 - 311319\n"
     ]
    }
   ],
   "source": [
    "from collections import OrderedDict\n",
    "from operator import itemgetter\n",
    "# словарь (имя - кол-во подписчиков)\n",
    "names_count = {}\n",
    "# упорядоченный словарь с парами ключ-значение из names_count\n",
    "sort_n_c = {}\n",
    "# первые 10 из sort_n_c\n",
    "topten = {}\n",
    "for tweet in twitter:\n",
    "    if 'delete' not in tweet.keys():\n",
    "        # заполняем словарь инф-ей об авторах неудалённых твитов\n",
    "        number = tweet['user']['followers_count']\n",
    "        name = tweet['user']['name']\n",
    "        if name not in names_count.keys():\n",
    "            names_count[name] = number\n",
    "# упорядочиваем словарь по убыванию значений и запоминаем первые 10\n",
    "sort_n_c = OrderedDict(sorted(names_count.items(), key=itemgetter(1),\n",
    "                              reverse=True))\n",
    "topten = dict(list(sort_n_c.items())[:10])\n",
    "# выводим ответ\n",
    "print('Ответ:')\n",
    "for key, value in topten.items():\n",
    "    print(key, '-', value)\n"
   ]
  },
  {
   "cell_type": "markdown",
   "metadata": {},
   "source": [
    "### Задание 8. Топ-10 источников твита (из какого приложения написан) (подсказка: для обработки используйте регулярные выражения)"
   ]
  },
  {
   "cell_type": "code",
   "execution_count": 11,
   "metadata": {},
   "outputs": [
    {
     "name": "stdout",
     "output_type": "stream",
     "text": [
      "Ответ:\n",
      "Twitter for iPhone - 800\n",
      "Twitter for Android - 695\n",
      "Twitter Web Client - 140\n",
      "twittbot.net - 122\n",
      "Twitter Lite - 51\n",
      "Twitter for iPad - 28\n",
      "TweetDeck - 23\n",
      "Facebook - 17\n",
      "IFTTT - 14\n",
      "تطبيق قرآني - 10\n"
     ]
    }
   ],
   "source": [
    "# пустой список для всех источников\n",
    "sources = []\n",
    "for tweet in twitter:\n",
    "    if ('deleted' not in tweet.keys()) and ('source' in tweet.keys()):\n",
    "        source = tweet['source']\n",
    "        # избавляемся от ненужных тэгов\n",
    "        source = re.sub(r'<a.*?>', '', source)\n",
    "        source = re.sub(r'</a>', '', source)\n",
    "        # добавляем источник в список источников\n",
    "        sources.append(source)\n",
    "# выводим результат\n",
    "print('Ответ:')\n",
    "for j in range(1, 11):\n",
    "    print(Counter(sources).most_common(j)[-1][0], '-',\n",
    "          Counter(sources).most_common(j)[-1][-1])\n"
   ]
  }
 ],
 "metadata": {
  "kernelspec": {
   "display_name": "Python 3",
   "language": "python",
   "name": "python3"
  },
  "language_info": {
   "codemirror_mode": {
    "name": "ipython",
    "version": 3
   },
   "file_extension": ".py",
   "mimetype": "text/x-python",
   "name": "python",
   "nbconvert_exporter": "python",
   "pygments_lexer": "ipython3",
   "version": "3.7.3"
  }
 },
 "nbformat": 4,
 "nbformat_minor": 2
}
